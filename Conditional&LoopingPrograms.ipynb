{
 "cells": [
  {
   "cell_type": "code",
   "execution_count": null,
   "metadata": {},
   "outputs": [],
   "source": [
    "#08.10.2000\n",
    "n=int(input())\n",
    "if(n%2==0):\n",
    "    print(\"n is even\")\n",
    "else:\n",
    "    print(\"n is odd\")"
   ]
  },
  {
   "cell_type": "code",
   "execution_count": 9,
   "metadata": {},
   "outputs": [
    {
     "name": "stdout",
     "output_type": "stream",
     "text": [
      "123455\n",
      "n is 6 digit number or out of the range\n"
     ]
    }
   ],
   "source": [
    "n=int(input())\n",
    "n=str(n)\n",
    "l=len(n)\n",
    "if(l==2):\n",
    "    print(\"n is 2 digit number\")\n",
    "elif(l==3):\n",
    "     print(\"n is 3 digit number\")\n",
    "elif(l==4):\n",
    "     print(\"n is 4 digit number\")\n",
    "else:\n",
    "    print(\"n is\",l,\"digit number or out of the range\")\n"
   ]
  },
  {
   "cell_type": "code",
   "execution_count": 10,
   "metadata": {},
   "outputs": [
    {
     "name": "stdout",
     "output_type": "stream",
     "text": [
      "3\n",
      "4\n",
      "It is rectangle\n"
     ]
    }
   ],
   "source": [
    "length=int(input())\n",
    "breadth=int(input())\n",
    "if(length==breadth):\n",
    "    print(\"It is square\")\n",
    "else:\n",
    "    print(\"It is rectangle\")"
   ]
  },
  {
   "cell_type": "code",
   "execution_count": 11,
   "metadata": {},
   "outputs": [
    {
     "name": "stdout",
     "output_type": "stream",
     "text": [
      "3\n",
      "5\n",
      "n2  is greater than n1\n"
     ]
    }
   ],
   "source": [
    "n1=int(input())\n",
    "n2=int(input())\n",
    "if n1>n2:\n",
    "    print(\"n1 is greater than n2\") \n",
    "elif(n2>n1):\n",
    "    print(\"n2  is greater than n1\")\n",
    "else:\n",
    "    print(\"n1 & n2 are equal\")"
   ]
  },
  {
   "cell_type": "code",
   "execution_count": null,
   "metadata": {},
   "outputs": [],
   "source": [
    "p=int(input())\n",
    "if(p>80 and p<=100):\n",
    "    print(\"Grade-A\")\n",
    "elif(p>60 and p<=80):\n",
    "    print(\"Grade-B\")\n",
    "elif(p>50 and p<=60):\n",
    "    print(\"Grade-C\")\n",
    "elif(p>45 and p<=50):\n",
    "    print(\"Grade-D\")\n",
    "elif(p>=25 and p<=45):\n",
    "    print(\"Grade-E\")\n",
    "else:\n",
    "    print(\"Fail\")"
   ]
  },
  {
   "cell_type": "code",
   "execution_count": null,
   "metadata": {},
   "outputs": [],
   "source": [
    "for i in range(1,6):\n",
    "    print(\"Subject : \",i,end='')\n",
    "    p=int(input())\n",
    "    if(p>80 and p<=100):\n",
    "        print(\"Grade-A\")\n",
    "    elif(p>60 and p<=80):\n",
    "        print(\"Grade-B\")\n",
    "    elif(p>50 and p<=60):\n",
    "        print(\"Grade-C\")\n",
    "    elif(p>45 and p<=50):\n",
    "        print(\"Grade-D\")\n",
    "    elif(p>=25 and p<=45):\n",
    "        print(\"Grade-E\")\n",
    "    else:\n",
    "        print(\"Fail\")"
   ]
  },
  {
   "cell_type": "code",
   "execution_count": null,
   "metadata": {},
   "outputs": [],
   "source": [
    "#09/10/2020\n",
    "n=int(input())\n",
    "i=0\n",
    "res=0\n",
    "while(i<n):\n",
    "    v=int(input())\n",
    "    res+=v\n",
    "    i+=1\n",
    "print(res/n)"
   ]
  },
  {
   "cell_type": "code",
   "execution_count": null,
   "metadata": {},
   "outputs": [],
   "source": [
    "#find the sum of n\n",
    "n=int(input())\n",
    "sum=0\n",
    "i=0\n",
    "while(i<=n):\n",
    "    sum+=i\n",
    "    i+=1\n",
    "print(sum)"
   ]
  },
  {
   "cell_type": "code",
   "execution_count": null,
   "metadata": {},
   "outputs": [],
   "source": [
    "n=int(input())\n",
    "i=1\n",
    "while(i<11):\n",
    "    print(n,'*',i,'=',n*i)\n",
    "    i+=1"
   ]
  },
  {
   "cell_type": "code",
   "execution_count": null,
   "metadata": {},
   "outputs": [],
   "source": [
    "n=int(input(\"No of Tables : \"))\n",
    "for i in range(1,n+1):\n",
    "    print(\"Table No \",i,': ',end='')\n",
    "    m=int(input())\n",
    "    j=1\n",
    "    while(j<11):\n",
    "        print(m,'*',j,'=',m*j)\n",
    "        j+=1\n",
    "    print(\"---------\")"
   ]
  },
  {
   "cell_type": "code",
   "execution_count": 1,
   "metadata": {},
   "outputs": [
    {
     "name": "stdout",
     "output_type": "stream",
     "text": [
      "[4, 16, 36]\n"
     ]
    }
   ],
   "source": [
    "#square\n",
    "l=[2,4,6]\n",
    "a=[]\n",
    "for i in range(0,len(l)):\n",
    "    a.append(l[i]**2)\n",
    "print(a)\n"
   ]
  },
  {
   "cell_type": "code",
   "execution_count": 3,
   "metadata": {},
   "outputs": [
    {
     "name": "stdout",
     "output_type": "stream",
     "text": [
      "even list : [2, 4, 6, 8, 10, 12, 14, 16, 18, 20, 22, 24, 26, 28, 30, 32, 34, 36, 38, 40, 42, 44, 46, 48, 50, 52, 54, 56, 58, 60, 62, 64, 66, 68, 70, 72, 74, 76, 78, 80, 82, 84, 86, 88, 90, 92, 94, 96, 98, 100] \n",
      "\n",
      " odd list : [1, 3, 5, 7, 9, 11, 13, 15, 17, 19, 21, 23, 25, 27, 29, 31, 33, 35, 37, 39, 41, 43, 45, 47, 49, 51, 53, 55, 57, 59, 61, 63, 65, 67, 69, 71, 73, 75, 77, 79, 81, 83, 85, 87, 89, 91, 93, 95, 97, 99, 101]\n"
     ]
    }
   ],
   "source": [
    "# even and odd list\n",
    "even=[]\n",
    "odd=[]\n",
    "for i in range(1,102):#5 upto 101\n",
    "    if(i%2==0): #5%2==1 xx\n",
    "        even.append(i) \n",
    "    else: \n",
    "        odd.append(i)\n",
    "print(\"even list :\",even,'\\n\\n',\"odd list :\",odd)"
   ]
  },
  {
   "cell_type": "code",
   "execution_count": 7,
   "metadata": {
    "scrolled": true
   },
   "outputs": [
    {
     "name": "stdout",
     "output_type": "stream",
     "text": [
      "divsible by 4\n",
      " [4, 8, 12, 16, 20, 24, 28, 32, 36, 40, 44, 48, 52, 56, 60, 64, 68, 72, 76, 80, 84, 88, 92, 96, 100] \n",
      "\n",
      "divsible by 6\n",
      " [6, 12, 18, 24, 30, 36, 42, 48, 54, 60, 66, 72, 78, 84, 90, 96] \n",
      "\n",
      "divsible by 8\n",
      " [8, 16, 24, 32, 40, 48, 56, 64, 72, 80, 88, 96] \n",
      "\n",
      "divsible by 10\n",
      " [10, 20, 30, 40, 50, 60, 70, 80, 90, 100] \n",
      "\n",
      "divsible by 3\n",
      " [3, 6, 9, 12, 15, 18, 21, 24, 27, 30, 33, 36, 39, 42, 45, 48, 51, 54, 57, 60, 63, 66, 69, 72, 75, 78, 81, 84, 87, 90, 93, 96, 99] \n",
      "\n",
      "divsible by 5\n",
      " [5, 10, 15, 20, 25, 30, 35, 40, 45, 50, 55, 60, 65, 70, 75, 80, 85, 90, 95, 100] \n",
      "\n",
      "divsible by 7\n",
      " [7, 14, 21, 28, 35, 42, 49, 56, 63, 70, 77, 84, 91, 98] \n",
      "\n",
      "divsible by 9\n",
      " [9, 18, 27, 36, 45, 54, 63, 72, 81, 90, 99] \n",
      "\n"
     ]
    }
   ],
   "source": [
    "div_4=[]\n",
    "div_6=[]\n",
    "div_8=[]\n",
    "div_10=[]\n",
    "div_3=[]\n",
    "div_5=[]\n",
    "div_7=[]\n",
    "div_9=[]\n",
    "\n",
    "for i in range(1,102):\n",
    "    if(i%4==0):\n",
    "        div_4.append(i)\n",
    "\n",
    "    if(i%6==0):\n",
    "        div_6.append(i)\n",
    "\n",
    "    if(i%8==0):\n",
    "        div_8.append(i)\n",
    "\n",
    "    if(i%10==0):\n",
    "        div_10.append(i)\n",
    "\n",
    "    if(i%3==0):\n",
    "        div_3.append(i)\n",
    "\n",
    "    if(i%5==0):\n",
    "        div_5.append(i)\n",
    "\n",
    "    if(i%7==0):\n",
    "        div_7.append(i)\n",
    "\n",
    "    if(i%9==0):\n",
    "        div_9.append(i)\n",
    "print(\"divsible by 4\\n\",div_4,\"\\n\")\n",
    "print(\"divsible by 6\\n\",div_6,\"\\n\")\n",
    "print(\"divsible by 8\\n\",div_8,\"\\n\")\n",
    "print(\"divsible by 10\\n\",div_10,\"\\n\")\n",
    "print(\"divsible by 3\\n\",div_3,\"\\n\")\n",
    "print(\"divsible by 5\\n\",div_5,\"\\n\")\n",
    "print(\"divsible by 7\\n\",div_7,\"\\n\")\n",
    "print(\"divsible by 9\\n\",div_9,\"\\n\")\n",
    "        \n",
    "\n",
    "\n"
   ]
  }
 ],
 "metadata": {
  "kernelspec": {
   "display_name": "Python 3",
   "language": "python",
   "name": "python3"
  },
  "language_info": {
   "codemirror_mode": {
    "name": "ipython",
    "version": 3
   },
   "file_extension": ".py",
   "mimetype": "text/x-python",
   "name": "python",
   "nbconvert_exporter": "python",
   "pygments_lexer": "ipython3",
   "version": "3.7.6"
  }
 },
 "nbformat": 4,
 "nbformat_minor": 4
}
