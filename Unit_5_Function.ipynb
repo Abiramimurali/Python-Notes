{
 "cells": [
  {
   "cell_type": "code",
   "execution_count": 1,
   "metadata": {},
   "outputs": [
    {
     "name": "stdout",
     "output_type": "stream",
     "text": [
      "Dora cartoon\n",
      "Shinchan cartoon\n",
      "Benten cartoon\n"
     ]
    }
   ],
   "source": [
    "def myFunction(a):\n",
    "    print(a+\" cartoon\")\n",
    "myFunction(\"Dora\")\n",
    "myFunction(\"Shinchan\")\n",
    "myFunction(\"Mr Bean\")"
   ]
  },
  {
   "cell_type": "code",
   "execution_count": 3,
   "metadata": {},
   "outputs": [
    {
     "name": "stdout",
     "output_type": "stream",
     "text": [
      "python Programming\n"
     ]
    }
   ],
   "source": [
    "def myFunction(a,b):\n",
    "    print(a+\" \"+b)\n",
    "myFunction(\"python\",\"Programming\")"
   ]
  },
  {
   "cell_type": "code",
   "execution_count": 6,
   "metadata": {},
   "outputs": [
    {
     "ename": "TypeError",
     "evalue": "myFunction() missing 1 required positional argument: 'b'",
     "output_type": "error",
     "traceback": [
      "\u001b[1;31m---------------------------------------------------------------------------\u001b[0m",
      "\u001b[1;31mTypeError\u001b[0m                                 Traceback (most recent call last)",
      "\u001b[1;32m<ipython-input-6-a892a231e169>\u001b[0m in \u001b[0;36m<module>\u001b[1;34m\u001b[0m\n\u001b[0;32m      1\u001b[0m \u001b[1;32mdef\u001b[0m \u001b[0mmyFunction\u001b[0m\u001b[1;33m(\u001b[0m\u001b[0ma\u001b[0m\u001b[1;33m,\u001b[0m\u001b[0mb\u001b[0m\u001b[1;33m)\u001b[0m\u001b[1;33m:\u001b[0m\u001b[1;33m\u001b[0m\u001b[1;33m\u001b[0m\u001b[0m\n\u001b[0;32m      2\u001b[0m     \u001b[0mprint\u001b[0m\u001b[1;33m(\u001b[0m\u001b[0ma\u001b[0m\u001b[1;33m+\u001b[0m\u001b[1;34m\" \"\u001b[0m\u001b[1;33m+\u001b[0m\u001b[0mb\u001b[0m\u001b[1;33m)\u001b[0m\u001b[1;33m\u001b[0m\u001b[1;33m\u001b[0m\u001b[0m\n\u001b[1;32m----> 3\u001b[1;33m \u001b[0mmyFunction\u001b[0m\u001b[1;33m(\u001b[0m\u001b[1;34m\"python\"\u001b[0m\u001b[1;33m)\u001b[0m\u001b[1;33m\u001b[0m\u001b[1;33m\u001b[0m\u001b[0m\n\u001b[0m",
      "\u001b[1;31mTypeError\u001b[0m: myFunction() missing 1 required positional argument: 'b'"
     ]
    }
   ],
   "source": [
    "def myFunction(a,b):\n",
    "    print(a+\" \"+b)\n",
    "myFunction(\"python\")"
   ]
  },
  {
   "cell_type": "code",
   "execution_count": 12,
   "metadata": {},
   "outputs": [
    {
     "name": "stdout",
     "output_type": "stream",
     "text": [
      "The yongest child is Linus\n",
      "The yongest child is tobias\n",
      "The yongest child is abi\n"
     ]
    }
   ],
   "source": [
    "# Arbitary aruguments\n",
    "\n",
    "def myFunction(*kids):\n",
    "    print(\"The yongest child is \"+kids[2])\n",
    "myFunction(\"emil\",\"tobias\",\"Linus\")\n",
    "\n",
    "def myFunction(*kids):\n",
    "    print(\"The yongest child is \"+kids[1])\n",
    "myFunction(\"emil\",\"tobias\",\"Linus\")\n",
    "\n",
    "def myFunction(*kids):\n",
    "    print(\"The yongest child is \"+kids[3])\n",
    "myFunction(\"emil\",\"tobias\",\"Linus\",\"abi\")"
   ]
  },
  {
   "cell_type": "code",
   "execution_count": 14,
   "metadata": {},
   "outputs": [
    {
     "name": "stdout",
     "output_type": "stream",
     "text": [
      "The yongest child is Linus\n",
      "The yongest child is emil\n"
     ]
    }
   ],
   "source": [
    "#keywords Arugument\n",
    "#key=value -> sytax\n",
    "\n",
    "def myFunction(child3,child2,child1):\n",
    "    print(\"The yongest child is \"+child3)\n",
    "myFunction(child1=\"emil\",child2=\"tobias\",child3=\"Linus\")\n",
    "\n",
    "def myFunction(child3,child2,child1):\n",
    "    print(\"The yongest child is \"+child3)\n",
    "myFunction(\"emil\",\"tobias\",\"Linus\")"
   ]
  },
  {
   "cell_type": "code",
   "execution_count": null,
   "metadata": {},
   "outputs": [],
   "source": []
  }
 ],
 "metadata": {
  "kernelspec": {
   "display_name": "Python 3",
   "language": "python",
   "name": "python3"
  },
  "language_info": {
   "codemirror_mode": {
    "name": "ipython",
    "version": 3
   },
   "file_extension": ".py",
   "mimetype": "text/x-python",
   "name": "python",
   "nbconvert_exporter": "python",
   "pygments_lexer": "ipython3",
   "version": "3.7.6"
  }
 },
 "nbformat": 4,
 "nbformat_minor": 4
}
