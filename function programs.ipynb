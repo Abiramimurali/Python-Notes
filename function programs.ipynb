{
 "cells": [
  {
   "cell_type": "code",
   "execution_count": 12,
   "metadata": {},
   "outputs": [
    {
     "name": "stdout",
     "output_type": "stream",
     "text": [
      "8 2 3 0 7\n",
      "20\n"
     ]
    }
   ],
   "source": [
    "#write a python fun to add all the numbers in a list\n",
    "def add(a):\n",
    "    sum=0 #local\n",
    "    for i in range(len(a)): #len=5\n",
    "        sum+=int(a[i]) #a[4]=7, sum=13+7=20\n",
    "    return sum\n",
    "\n",
    "a=list(input().split())#20 \n",
    "s=add(a)#20\n",
    "print(s)\n"
   ]
  },
  {
   "cell_type": "code",
   "execution_count": 17,
   "metadata": {},
   "outputs": [
    {
     "name": "stdout",
     "output_type": "stream",
     "text": [
      "3 4\n",
      "12\n"
     ]
    }
   ],
   "source": [
    "#write a python fun to multiply all the numbers in a list\n",
    "def mul(a):\n",
    "    ans=1 #local\n",
    "    for i in range(len(a)): \n",
    "        ans*=int(a[i]) #1*3=3\n",
    "    return ans\n",
    "\n",
    "a=list(input().split()) \n",
    "s=mul(a)\n",
    "print(s)\n"
   ]
  },
  {
   "cell_type": "code",
   "execution_count": null,
   "metadata": {},
   "outputs": [],
   "source": [
    "\n",
    "\n",
    "\n",
    "\n",
    "#reverse a string\n",
    "def str1(s):\n",
    "    r=\"\"\n",
    "    for i in range(len(s)):\n",
    "        r+=s[i]\n",
    "    return r\n",
    "string=input()\n",
    "res=str1(string)\n",
    "print(res)"
   ]
  },
  {
   "cell_type": "code",
   "execution_count": null,
   "metadata": {},
   "outputs": [],
   "source": []
  },
  {
   "cell_type": "code",
   "execution_count": null,
   "metadata": {},
   "outputs": [],
   "source": []
  }
 ],
 "metadata": {
  "kernelspec": {
   "display_name": "Python 3",
   "language": "python",
   "name": "python3"
  },
  "language_info": {
   "codemirror_mode": {
    "name": "ipython",
    "version": 3
   },
   "file_extension": ".py",
   "mimetype": "text/x-python",
   "name": "python",
   "nbconvert_exporter": "python",
   "pygments_lexer": "ipython3",
   "version": "3.7.6"
  }
 },
 "nbformat": 4,
 "nbformat_minor": 4
}
