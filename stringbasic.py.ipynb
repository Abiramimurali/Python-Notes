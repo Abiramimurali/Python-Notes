{
 "cells": [
  {
   "cell_type": "code",
   "execution_count": 5,
   "metadata": {},
   "outputs": [
    {
     "name": "stdout",
     "output_type": "stream",
     "text": [
      "True\n",
      "False\n",
      "False\n"
     ]
    }
   ],
   "source": [
    "print(10>9)\n",
    "print(10==9)\n",
    "print(10<9)\n",
    "\n"
   ]
  },
  {
   "cell_type": "code",
   "execution_count": 4,
   "metadata": {},
   "outputs": [],
   "source": [
    "# mulitiple data in a sigle variable -> squence data types\n",
    "# 3 diff data types ->  string, List, Tuple\n",
    "#String-> No.of char one or more char, enter inside '',\"\" or \"''\".\n",
    "#length-> start with 1\n"
   ]
  },
  {
   "cell_type": "code",
   "execution_count": 6,
   "metadata": {},
   "outputs": [
    {
     "name": "stdout",
     "output_type": "stream",
     "text": [
      "welcome\n",
      "Sathyabama\n",
      "EEE\n"
     ]
    }
   ],
   "source": [
    "string1='welcome'\n",
    "string2=\"Sathyabama\"\n",
    "string3='''EEE'''\n",
    "print(string1)\n",
    "print(string2)\n",
    "print(string3)\n"
   ]
  },
  {
   "cell_type": "code",
   "execution_count": 15,
   "metadata": {},
   "outputs": [
    {
     "name": "stdout",
     "output_type": "stream",
     "text": [
      "Welcome\n",
      "               to\n",
      "           sathyabama\n"
     ]
    }
   ],
   "source": [
    "string4=  '''Welcome\n",
    "               to\n",
    "           sathyabama'''\n",
    "print(string4)"
   ]
  },
  {
   "cell_type": "code",
   "execution_count": 16,
   "metadata": {},
   "outputs": [
    {
     "name": "stdout",
     "output_type": "stream",
     "text": [
      "w\n",
      "e\n"
     ]
    }
   ],
   "source": [
    "print(string1[0])\n",
    "print(string1[-1])"
   ]
  },
  {
   "cell_type": "code",
   "execution_count": 1,
   "metadata": {},
   "outputs": [
    {
     "name": "stdout",
     "output_type": "stream",
     "text": [
      "i'm 'abi'\n"
     ]
    }
   ],
   "source": [
    "print(\"i\\'m 'abi'\")"
   ]
  },
  {
   "cell_type": "code",
   "execution_count": 2,
   "metadata": {},
   "outputs": [
    {
     "name": "stdout",
     "output_type": "stream",
     "text": [
      "EEE Rockers\n",
      "EEE\n",
      "4\n"
     ]
    }
   ],
   "source": [
    "word=\"EEE Rockers\"\n",
    "print(word)\n",
    "print(word[0:3])\n",
    "print(word.find('R'))"
   ]
  },
  {
   "cell_type": "code",
   "execution_count": 4,
   "metadata": {},
   "outputs": [
    {
     "name": "stdout",
     "output_type": "stream",
     "text": [
      "3\n",
      "0\n",
      "['EEE', 'Rockers']\n",
      "sathyabamacollege\n"
     ]
    }
   ],
   "source": [
    "print(word.count(\"E\"))\n",
    "print(word.find(\"E\"))\n",
    "print(word.split(' '))\n",
    "#how to combine \n",
    "a='sathyabama'\n",
    "b='college'\n",
    "print(a+b)\n"
   ]
  },
  {
   "cell_type": "code",
   "execution_count": null,
   "metadata": {},
   "outputs": [],
   "source": []
  }
 ],
 "metadata": {
  "kernelspec": {
   "display_name": "Python 3",
   "language": "python",
   "name": "python3"
  },
  "language_info": {
   "codemirror_mode": {
    "name": "ipython",
    "version": 3
   },
   "file_extension": ".py",
   "mimetype": "text/x-python",
   "name": "python",
   "nbconvert_exporter": "python",
   "pygments_lexer": "ipython3",
   "version": "3.7.6"
  }
 },
 "nbformat": 4,
 "nbformat_minor": 4
}
