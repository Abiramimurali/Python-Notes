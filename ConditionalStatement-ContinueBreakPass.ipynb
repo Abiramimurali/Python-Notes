{
 "cells": [
  {
   "cell_type": "code",
   "execution_count": 1,
   "metadata": {},
   "outputs": [
    {
     "name": "stdout",
     "output_type": "stream",
     "text": [
      "current char p\n",
      "current char t\n",
      "current char h\n",
      "current char o\n",
      "current char n\n"
     ]
    }
   ],
   "source": [
    "for i in 'pythoyn':\n",
    "    if(i=='y'):\n",
    "        continue\n",
    "    print(\"current char\",i)\n"
   ]
  },
  {
   "cell_type": "code",
   "execution_count": 2,
   "metadata": {},
   "outputs": [
    {
     "name": "stdout",
     "output_type": "stream",
     "text": [
      "current char p\n",
      "current char y\n",
      "current char t\n"
     ]
    }
   ],
   "source": [
    "for i in 'python':\n",
    "    if(i=='h'):\n",
    "        break\n",
    "    print(\"current char\",i)"
   ]
  },
  {
   "cell_type": "code",
   "execution_count": 3,
   "metadata": {},
   "outputs": [
    {
     "name": "stdout",
     "output_type": "stream",
     "text": [
      "current char p\n",
      "current char y\n",
      "current char t\n",
      "current char h\n",
      "current char o\n",
      "current char n\n"
     ]
    }
   ],
   "source": [
    "\n",
    "for i in 'python':\n",
    "    if(i=='h'):\n",
    "        pass\n",
    "    print(\"current char\",i)"
   ]
  },
  {
   "cell_type": "code",
   "execution_count": 4,
   "metadata": {},
   "outputs": [
    {
     "name": "stdout",
     "output_type": "stream",
     "text": [
      "[1505, 1540, 1575, 1610, 1645, 1680, 1715, 1750, 1785, 1820, 1855, 1890, 1925, 1960, 1995, 2030, 2065, 2100, 2135, 2170, 2205, 2240, 2275, 2310, 2345, 2380, 2415, 2450, 2485, 2520, 2555, 2590, 2625, 2660, 2695]\n"
     ]
    }
   ],
   "source": [
    "div_7=[]\n",
    "for i in range(1500,2701):\n",
    "    if(i%7==0 and i%5==0):\n",
    "       div_7.append(i)\n",
    "  \n",
    "    if(not(i%7==0)or (not(i%5==0))):\n",
    "        pass\n",
    "print(div_7)"
   ]
  },
  {
   "cell_type": "code",
   "execution_count": 5,
   "metadata": {},
   "outputs": [
    {
     "name": "stdout",
     "output_type": "stream",
     "text": [
      "5\n",
      "*\n",
      "**\n",
      "***\n",
      "****\n",
      "*****\n",
      "****\n",
      "***\n",
      "**\n",
      "*\n"
     ]
    }
   ],
   "source": [
    "n=int(input())\n",
    "for i in range(n):\n",
    "    for j in range(i+1):\n",
    "        print('*',end='')\n",
    "    print()\n",
    "for i in range(n-1,0,-1):\n",
    "    for j in range(i): \n",
    "        print('*',end='')\n",
    "    print()\n",
    "    \n",
    "#2,3 and 4th pattern-> print D ,E and A symbol using *"
   ]
  },
  {
   "cell_type": "code",
   "execution_count": 6,
   "metadata": {},
   "outputs": [
    {
     "name": "stdout",
     "output_type": "stream",
     "text": [
      "0\n",
      "1\n",
      "2\n",
      "4\n",
      "5\n",
      "7\n"
     ]
    }
   ],
   "source": [
    "for i in range(8):\n",
    "    if(i==3 or i==6):\n",
    "        continue\n",
    "    print(i)\n",
    "        "
   ]
  },
  {
   "cell_type": "code",
   "execution_count": null,
   "metadata": {},
   "outputs": [],
   "source": []
  }
 ],
 "metadata": {
  "kernelspec": {
   "display_name": "Python 3",
   "language": "python",
   "name": "python3"
  },
  "language_info": {
   "codemirror_mode": {
    "name": "ipython",
    "version": 3
   },
   "file_extension": ".py",
   "mimetype": "text/x-python",
   "name": "python",
   "nbconvert_exporter": "python",
   "pygments_lexer": "ipython3",
   "version": "3.7.6"
  }
 },
 "nbformat": 4,
 "nbformat_minor": 4
}
