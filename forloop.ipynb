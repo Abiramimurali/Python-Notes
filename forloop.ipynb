{
 "cells": [
  {
   "cell_type": "code",
   "execution_count": 2,
   "metadata": {},
   "outputs": [
    {
     "name": "stdout",
     "output_type": "stream",
     "text": [
      "[4, 16, 36]\n"
     ]
    }
   ],
   "source": [
    "l=[2,4,6]\n",
    "a=[]\n",
    "for i in range(0,len(l)):\n",
    "    a.append(l[i]**2)\n",
    "print(a)\n"
   ]
  },
  {
   "cell_type": "code",
   "execution_count": 11,
   "metadata": {
    "scrolled": true
   },
   "outputs": [
    {
     "name": "stdout",
     "output_type": "stream",
     "text": [
      "even list : [2, 4, 6, 8, 10, 12, 14, 16, 18, 20, 22, 24, 26, 28, 30, 32, 34, 36, 38, 40, 42, 44, 46, 48, 50, 52, 54, 56, 58, 60, 62, 64, 66, 68, 70, 72, 74, 76, 78, 80, 82, 84, 86, 88, 90, 92, 94, 96, 98, 100] \n",
      " odd list : [1, 3, 5, 7, 9, 11, 13, 15, 17, 19, 21, 23, 25, 27, 29, 31, 33, 35, 37, 39, 41, 43, 45, 47, 49, 51, 53, 55, 57, 59, 61, 63, 65, 67, 69, 71, 73, 75, 77, 79, 81, 83, 85, 87, 89, 91, 93, 95, 97, 99, 101]\n"
     ]
    }
   ],
   "source": [
    "even=[]\n",
    "odd=[]\n",
    "for i in range(1,102):#5 upto 101\n",
    "    if(i%2==0): #5%2==1 xx\n",
    "        even.append(i) \n",
    "    else: \n",
    "        odd.append(i)\n",
    "print(\"even list :\",even,'\\n',\"odd list :\",odd)"
   ]
  },
  {
   "cell_type": "code",
   "execution_count": 14,
   "metadata": {},
   "outputs": [
    {
     "name": "stdout",
     "output_type": "stream",
     "text": [
      "divsible by 4 [4, 8, 12, 16, 20, 24, 28, 32, 36, 40, 44, 48, 52, 56, 60, 64, 68, 72, 76, 80, 84, 88, 92, 96, 100]\n",
      "divsible by 6 [6, 12, 18, 24, 30, 36, 42, 48, 54, 60, 66, 72, 78, 84, 90, 96]\n",
      "divsible by 8 [8, 16, 24, 32, 40, 48, 56, 64, 72, 80, 88, 96]\n",
      "divsible by 10 [10, 20, 30, 40, 50, 60, 70, 80, 90, 100]\n",
      "divsible by 3 [3, 6, 9, 12, 15, 18, 21, 24, 27, 30, 33, 36, 39, 42, 45, 48, 51, 54, 57, 60, 63, 66, 69, 72, 75, 78, 81, 84, 87, 90, 93, 96, 99]\n",
      "divsible by 5 [5, 10, 15, 20, 25, 30, 35, 40, 45, 50, 55, 60, 65, 70, 75, 80, 85, 90, 95, 100]\n",
      "divsible by 7 [7, 14, 21, 28, 35, 42, 49, 56, 63, 70, 77, 84, 91, 98]\n",
      "divsible by 9 [9, 18, 27, 36, 45, 54, 63, 72, 81, 90, 99]\n"
     ]
    }
   ],
   "source": [
    "div_4=[]\n",
    "div_6=[]\n",
    "div_8=[]\n",
    "div_10=[]\n",
    "div_3=[]\n",
    "div_5=[]\n",
    "div_7=[]\n",
    "div_9=[]\n",
    "\n",
    "for i in range(1,102):\n",
    "    if(i%4==0):\n",
    "        div_4.append(i)\n",
    "\n",
    "    if(i%6==0):\n",
    "        div_6.append(i)\n",
    "\n",
    "    if(i%8==0):\n",
    "        div_8.append(i)\n",
    "\n",
    "    if(i%10==0):\n",
    "        div_10.append(i)\n",
    "\n",
    "    if(i%3==0):\n",
    "        div_3.append(i)\n",
    "\n",
    "    if(i%5==0):\n",
    "        div_5.append(i)\n",
    "\n",
    "    if(i%7==0):\n",
    "        div_7.append(i)\n",
    "\n",
    "    if(i%9==0):\n",
    "        div_9.append(i)\n",
    "print(\"divsible by 4\",div_4)\n",
    "print(\"divsible by 6\",div_6)\n",
    "print(\"divsible by 8\",div_8)\n",
    "print(\"divsible by 10\",div_10)\n",
    "print(\"divsible by 3\",div_3)\n",
    "print(\"divsible by 5\",div_5)\n",
    "print(\"divsible by 7\",div_7)\n",
    "print(\"divsible by 9\",div_9)\n",
    "        \n",
    "\n",
    "\n"
   ]
  },
  {
   "cell_type": "code",
   "execution_count": null,
   "metadata": {},
   "outputs": [],
   "source": []
  }
 ],
 "metadata": {
  "kernelspec": {
   "display_name": "Python 3",
   "language": "python",
   "name": "python3"
  },
  "language_info": {
   "codemirror_mode": {
    "name": "ipython",
    "version": 3
   },
   "file_extension": ".py",
   "mimetype": "text/x-python",
   "name": "python",
   "nbconvert_exporter": "python",
   "pygments_lexer": "ipython3",
   "version": "3.7.6"
  }
 },
 "nbformat": 4,
 "nbformat_minor": 4
}
