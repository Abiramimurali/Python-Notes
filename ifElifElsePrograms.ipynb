{
 "cells": [
  {
   "cell_type": "code",
   "execution_count": null,
   "metadata": {},
   "outputs": [],
   "source": [
    "#08.10.2000\n",
    "n=int(input())\n",
    "if(n%2==0):\n",
    "    print(\"n is even\")\n",
    "else:\n",
    "    print(\"n is odd\")\n",
    "\n"
   ]
  },
  {
   "cell_type": "code",
   "execution_count": null,
   "metadata": {},
   "outputs": [],
   "source": [
    "n=int(input())\n",
    "n=str(n)\n",
    "l=len(n)\n",
    "if(l==2):\n",
    "    print(\"n is 2 digit number\")\n",
    "elif(l==3):\n",
    "     print(\"n is 3 digit number\")\n",
    "elif(l==4):\n",
    "     print(\"n is 4 digit number\")\n",
    "else:\n",
    "    print(\"n is\",l,\"digit number or out of the range\")\n"
   ]
  },
  {
   "cell_type": "code",
   "execution_count": null,
   "metadata": {},
   "outputs": [],
   "source": [
    "n=int(input())\n",
    "if(n>0):\n",
    "    print(\"n is positive\")\n",
    "elif(n==0):\n",
    "    print(\"n is zero\")\n",
    "else:\n",
    "    print(\"n is negative number\")"
   ]
  },
  {
   "cell_type": "code",
   "execution_count": null,
   "metadata": {},
   "outputs": [],
   "source": [
    "length=int(input())\n",
    "breadth=int(input())\n",
    "if(length==breadth):\n",
    "    print(\"It is square\")\n",
    "else:\n",
    "    print(\"It is rectangle\")"
   ]
  },
  {
   "cell_type": "code",
   "execution_count": null,
   "metadata": {},
   "outputs": [],
   "source": [
    "n1=int(input())\n",
    "n2=int(input())\n",
    "if n1>n2:\n",
    "    print(\"n1 is greater than n2\") \n",
    "elif(n2>n1):\n",
    "    print(\"n2  is greater than n1\")\n",
    "else:\n",
    "    print(\"n1 & n2 are equal\")"
   ]
  },
  {
   "cell_type": "code",
   "execution_count": null,
   "metadata": {},
   "outputs": [],
   "source": [
    "\n",
    "n1=int(input())\n",
    "n2=int(input())\n",
    "if n1>n2:\n",
    "    print(\"n1 is greater than n2\") \n",
    "elif(n2>n1):\n",
    "    print(\"n2  is greater than n1\")\n",
    "else:\n",
    "    print(\"n1 & n2 are equal\")"
   ]
  },
  {
   "cell_type": "code",
   "execution_count": null,
   "metadata": {},
   "outputs": [],
   "source": [
    "sub=int(input())\n",
    "for i in range(0,sub):\n",
    "    p=int(input())\n",
    "    if(p>80 and p<=100):\n",
    "        print(\"A\")\n",
    "    elif(p>60 and p<=80):\n",
    "        print(\"B\")\n",
    "    elif(p>50 and p<=60):\n",
    "        print(\"C\")\n",
    "    elif(p>45 and p<=50):\n",
    "        print(\"D\")\n",
    "    elif(p>=25 and p<=45):\n",
    "        print(\"E\")\n",
    "    else:\n",
    "        print(\"F\")"
   ]
  },
  {
   "cell_type": "code",
   "execution_count": null,
   "metadata": {},
   "outputs": [],
   "source": []
  }
 ],
 "metadata": {
  "kernelspec": {
   "display_name": "Python 3",
   "language": "python",
   "name": "python3"
  },
  "language_info": {
   "codemirror_mode": {
    "name": "ipython",
    "version": 3
   },
   "file_extension": ".py",
   "mimetype": "text/x-python",
   "name": "python",
   "nbconvert_exporter": "python",
   "pygments_lexer": "ipython3",
   "version": "3.7.6"
  }
 },
 "nbformat": 4,
 "nbformat_minor": 4
}
