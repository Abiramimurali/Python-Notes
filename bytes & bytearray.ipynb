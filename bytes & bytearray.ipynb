{
 "cells": [
  {
   "cell_type": "code",
   "execution_count": 1,
   "metadata": {},
   "outputs": [],
   "source": [
    "#Byte & byte arrays-> sequence data type\n",
    "#bytes[source[,encoding[,errors]]]\n",
    "#bytes(source[,encoding[,errors]])\n",
    "#one is mutable & another one is immutable \n",
    "#byte-mutable, byte array-immutable\n",
    "#byte array type is mutable seq of integer in the range 0<=x<256.\n",
    "#source-> input data->int/string/obj/iterable whatever data\n",
    "#encoding->this i/p is used string as a source otherwise not getting o/p\n",
    "#no need to give source, encoding,error-> inside of bytes it's optional i/ps.\n",
    "\n",
    "#syntax:  bytes() or b'i/p "
   ]
  },
  {
   "cell_type": "code",
   "execution_count": 1,
   "metadata": {
    "scrolled": true
   },
   "outputs": [
    {
     "name": "stdout",
     "output_type": "stream",
     "text": [
      "b'Bytes objects are immutable sequences of single bytes'\n",
      "b'python class'\n",
      "12\n"
     ]
    }
   ],
   "source": [
    "x=b\"Bytes objects are immutable sequences of single bytes\"\n",
    "print(x)\n"
   ]
  },
  {
   "cell_type": "code",
   "execution_count": 6,
   "metadata": {},
   "outputs": [
    {
     "name": "stdout",
     "output_type": "stream",
     "text": [
      "b'Python Tutorial,\\n     javascript tutorial,\\n    MySQL Tutorial'\n"
     ]
    }
   ],
   "source": [
    "x=b'''Python Tutorial,\n",
    "     javascript tutorial,\n",
    "    MySQL Tutorial'''\n",
    "print(x)"
   ]
  },
  {
   "cell_type": "code",
   "execution_count": 7,
   "metadata": {},
   "outputs": [
    {
     "name": "stdout",
     "output_type": "stream",
     "text": [
      "b'python, bytes'\n"
     ]
    }
   ],
   "source": [
    "x=bytes('python, bytes','utf8')\n",
    "print(x)"
   ]
  },
  {
   "cell_type": "code",
   "execution_count": 9,
   "metadata": {},
   "outputs": [
    {
     "name": "stdout",
     "output_type": "stream",
     "text": [
      "El niñ0 come camarón\n"
     ]
    }
   ],
   "source": [
    "x=b'El ni\\xc3\\xb10 come camar\\xc3\\xb3n'\n",
    "s=x.decode()\n",
    "print(s)"
   ]
  },
  {
   "cell_type": "code",
   "execution_count": 3,
   "metadata": {},
   "outputs": [
    {
     "name": "stdout",
     "output_type": "stream",
     "text": [
      "b'\\x00\\x00\\x00\\x00\\x00'\n"
     ]
    }
   ],
   "source": [
    "#bytes\n",
    "objBytes=bytes(5)\n",
    "print(objBytes)"
   ]
  },
  {
   "cell_type": "code",
   "execution_count": 6,
   "metadata": {},
   "outputs": [
    {
     "name": "stdout",
     "output_type": "stream",
     "text": [
      "bytearray(b'\\x00\\x00\\x00\\x00\\x00')\n"
     ]
    }
   ],
   "source": [
    "#bytearray\n",
    "size=5\n",
    "arr=bytearray(size)\n",
    "print(arr)"
   ]
  },
  {
   "cell_type": "code",
   "execution_count": 17,
   "metadata": {},
   "outputs": [
    {
     "name": "stdout",
     "output_type": "stream",
     "text": [
      "b'hello python'\n"
     ]
    },
    {
     "ename": "TypeError",
     "evalue": "string argument without an encoding",
     "output_type": "error",
     "traceback": [
      "\u001b[1;31m---------------------------------------------------------------------------\u001b[0m",
      "\u001b[1;31mTypeError\u001b[0m                                 Traceback (most recent call last)",
      "\u001b[1;32m<ipython-input-17-949221be686d>\u001b[0m in \u001b[0;36m<module>\u001b[1;34m\u001b[0m\n\u001b[0;32m      1\u001b[0m \u001b[0mobjBytes\u001b[0m\u001b[1;33m=\u001b[0m\u001b[0mbytes\u001b[0m\u001b[1;33m(\u001b[0m\u001b[1;34m\"hello python\"\u001b[0m\u001b[1;33m,\u001b[0m\u001b[1;34m\"utf-8\"\u001b[0m\u001b[1;33m)\u001b[0m\u001b[1;31m#i/p-string means should give encode(utf-8)\u001b[0m\u001b[1;33m\u001b[0m\u001b[1;33m\u001b[0m\u001b[0m\n\u001b[0;32m      2\u001b[0m \u001b[0mprint\u001b[0m\u001b[1;33m(\u001b[0m\u001b[0mobjBytes\u001b[0m\u001b[1;33m)\u001b[0m\u001b[1;33m\u001b[0m\u001b[1;33m\u001b[0m\u001b[0m\n\u001b[1;32m----> 3\u001b[1;33m \u001b[0mobjBytes\u001b[0m\u001b[1;33m=\u001b[0m\u001b[0mbytes\u001b[0m\u001b[1;33m(\u001b[0m\u001b[1;34m\"hello python\"\u001b[0m\u001b[1;33m)\u001b[0m\u001b[1;33m\u001b[0m\u001b[1;33m\u001b[0m\u001b[0m\n\u001b[0m\u001b[0;32m      4\u001b[0m \u001b[0mprint\u001b[0m\u001b[1;33m(\u001b[0m\u001b[0mobjBytes\u001b[0m\u001b[1;33m)\u001b[0m\u001b[1;33m\u001b[0m\u001b[1;33m\u001b[0m\u001b[0m\n\u001b[0;32m      5\u001b[0m \u001b[1;33m\u001b[0m\u001b[0m\n",
      "\u001b[1;31mTypeError\u001b[0m: string argument without an encoding"
     ]
    }
   ],
   "source": [
    "objBytes=bytes(\"hello python\",\"utf-8\")#i/p-string means should give encode(utf-8)\n",
    "print(objBytes)\n",
    "objBytes=bytes(\"hello python\")\n",
    "print(objBytes)\n",
    "\n"
   ]
  },
  {
   "cell_type": "code",
   "execution_count": 12,
   "metadata": {},
   "outputs": [
    {
     "name": "stdout",
     "output_type": "stream",
     "text": [
      "bytearray(b'hello python')\n"
     ]
    }
   ],
   "source": [
    "objBytes=bytearray(\"hello python\",\"utf-8\")\n",
    "print(objBytes)"
   ]
  },
  {
   "cell_type": "code",
   "execution_count": 16,
   "metadata": {},
   "outputs": [
    {
     "name": "stdout",
     "output_type": "stream",
     "text": [
      "b'\\x01\\x0f\\x19'\n",
      "bytearray(b'\\x01\\x0f\\x19')\n"
     ]
    }
   ],
   "source": [
    "l=[1,15,25]\n",
    "x=bytes(l)\n",
    "print(x)\n",
    "l=[1,15,25]\n",
    "x=bytearray(l)\n",
    "print(x)"
   ]
  },
  {
   "cell_type": "code",
   "execution_count": 25,
   "metadata": {},
   "outputs": [
    {
     "ename": "TypeError",
     "evalue": "'str' object cannot be interpreted as an integer",
     "output_type": "error",
     "traceback": [
      "\u001b[1;31m---------------------------------------------------------------------------\u001b[0m",
      "\u001b[1;31mTypeError\u001b[0m                                 Traceback (most recent call last)",
      "\u001b[1;32m<ipython-input-25-f383e027dec6>\u001b[0m in \u001b[0;36m<module>\u001b[1;34m\u001b[0m\n\u001b[0;32m      2\u001b[0m \u001b[0ml\u001b[0m\u001b[1;33m=\u001b[0m\u001b[1;33m[\u001b[0m\u001b[1;36m1\u001b[0m\u001b[1;33m,\u001b[0m\u001b[1;36m15\u001b[0m\u001b[1;33m,\u001b[0m\u001b[1;36m25\u001b[0m\u001b[1;33m,\u001b[0m\u001b[1;34m\"python\"\u001b[0m\u001b[1;33m]\u001b[0m\u001b[1;33m\u001b[0m\u001b[1;33m\u001b[0m\u001b[0m\n\u001b[0;32m      3\u001b[0m \u001b[0ml\u001b[0m\u001b[1;33m=\u001b[0m\u001b[1;33m[\u001b[0m\u001b[1;34m\"python1\"\u001b[0m\u001b[1;33m,\u001b[0m\u001b[1;34m'hn'\u001b[0m\u001b[1;33m]\u001b[0m\u001b[1;33m\u001b[0m\u001b[1;33m\u001b[0m\u001b[0m\n\u001b[1;32m----> 4\u001b[1;33m \u001b[0mx\u001b[0m\u001b[1;33m=\u001b[0m\u001b[0mbytes\u001b[0m\u001b[1;33m(\u001b[0m\u001b[0ml\u001b[0m\u001b[1;33m)\u001b[0m\u001b[1;33m\u001b[0m\u001b[1;33m\u001b[0m\u001b[0m\n\u001b[0m\u001b[0;32m      5\u001b[0m \u001b[0mprint\u001b[0m\u001b[1;33m(\u001b[0m\u001b[0mx\u001b[0m\u001b[1;33m)\u001b[0m\u001b[1;33m\u001b[0m\u001b[1;33m\u001b[0m\u001b[0m\n\u001b[0;32m      6\u001b[0m \u001b[0ml\u001b[0m\u001b[1;33m=\u001b[0m\u001b[1;33m[\u001b[0m\u001b[1;36m1\u001b[0m\u001b[1;33m,\u001b[0m\u001b[1;36m15\u001b[0m\u001b[1;33m,\u001b[0m\u001b[1;36m25\u001b[0m\u001b[1;33m,\u001b[0m\u001b[1;34m\"python\"\u001b[0m\u001b[1;33m]\u001b[0m\u001b[1;33m\u001b[0m\u001b[1;33m\u001b[0m\u001b[0m\n",
      "\u001b[1;31mTypeError\u001b[0m: 'str' object cannot be interpreted as an integer"
     ]
    }
   ],
   "source": [
    "#list should have same data types \n",
    "l=[1,15,25,\"python\"]\n",
    "#l=[\"python1\",'hn']->right\n",
    "x=bytes(l)\n",
    "print(x)\n",
    "l=[1,15,25,\"python\"]\n",
    "x=bytearray(l)\n",
    "print(x)\n"
   ]
  },
  {
   "cell_type": "code",
   "execution_count": 24,
   "metadata": {},
   "outputs": [
    {
     "name": "stdout",
     "output_type": "stream",
     "text": [
      "97\n",
      "[65, 98, 105, 114, 97, 109, 105, 109, 117, 114, 97, 108, 105, 50, 48, 48, 48]\n"
     ]
    }
   ],
   "source": [
    "#numeric code representing a char of a bytes object in python\n",
    "#like ascci value\n",
    "x=ord(b'a')\n",
    "print(x)\n",
    "y=b'Abiramimurali2000'\n",
    "z=list(y)\n",
    "print(z)"
   ]
  },
  {
   "cell_type": "code",
   "execution_count": 28,
   "metadata": {},
   "outputs": [
    {
     "name": "stdout",
     "output_type": "stream",
     "text": [
      "t\n",
      "e\n"
     ]
    }
   ],
   "source": [
    "x=chr(116)\n",
    "print(x)\n",
    "y=chr(101)\n",
    "print(y)\n"
   ]
  },
  {
   "cell_type": "code",
   "execution_count": 32,
   "metadata": {},
   "outputs": [
    {
     "name": "stdout",
     "output_type": "stream",
     "text": [
      "b'Abiramimurali2000'\n"
     ]
    }
   ],
   "source": [
    "y=[65, 98, 105, 114, 97, 109, 105, 109, 117, 114, 97, 108, 105, 50, 48, 48, 48]\n",
    "z=bytes(y)\n",
    "print(z)"
   ]
  },
  {
   "cell_type": "code",
   "execution_count": 2,
   "metadata": {},
   "outputs": [
    {
     "name": "stdout",
     "output_type": "stream",
     "text": [
      "b'python class'\n",
      "12\n"
     ]
    }
   ],
   "source": [
    "#16/9/2020\n",
    "#length of bytes\n",
    "y=b'python class'\n",
    "print(y)\n",
    "print(len(y))\n"
   ]
  },
  {
   "cell_type": "code",
   "execution_count": 10,
   "metadata": {},
   "outputs": [
    {
     "name": "stdout",
     "output_type": "stream",
     "text": [
      "b'El ni\\xc3\\xb1o come camar\\xc3\\xb2n'\n"
     ]
    }
   ],
   "source": [
    "x=bytes(\"El niño come camaròn\",\"utf-8\")\n",
    "print(x)\n"
   ]
  },
  {
   "cell_type": "code",
   "execution_count": 9,
   "metadata": {},
   "outputs": [
    {
     "name": "stdout",
     "output_type": "stream",
     "text": [
      "b'byte 213byte 213byte 213byte 213byte 213'\n",
      "b'Foj^ed\\x16_i\\x16[}\\x87'\n",
      "b'Foj^ed\\x16_i\\x16[}\\x87python'\n"
     ]
    }
   ],
   "source": [
    "x=b'byte 213'\n",
    "print(x*5)\n",
    "x1=bytes([70,111,106,94,101,100,22,95,105,22,91,125,135])\n",
    "print(x1)#byte obj of the list\n",
    "x2=b'python'\n",
    "print(x1+x2)"
   ]
  },
  {
   "cell_type": "code",
   "execution_count": 17,
   "metadata": {},
   "outputs": [
    {
     "name": "stdout",
     "output_type": "stream",
     "text": [
      "94\n",
      "\u0016\n"
     ]
    }
   ],
   "source": [
    "x1=[70,111,106,94,101,100,22,95,105,22,91,125,135]\n",
    "print(x1[3])\n",
    "x=x1[-4]\n",
    "print(chr(x))"
   ]
  },
  {
   "cell_type": "code",
   "execution_count": 28,
   "metadata": {},
   "outputs": [
    {
     "name": "stdout",
     "output_type": "stream",
     "text": [
      "bytearray(b'python bytearray')\n",
      "bytearray(b'python bytey')\n",
      "bytearray(b'python byte object')\n",
      "bytearray(b'python byte objectA')\n",
      "bytearray(b'jectA')\n",
      "bytearray(b'python')\n",
      "bytearray(b'python byte object')\n",
      "bytearray(b'byte object')\n"
     ]
    }
   ],
   "source": [
    "#slice\n",
    "x=bytearray(\"python bytearray\",'utf-8')\n",
    "print(x)\n",
    "del x[11:15]\n",
    "print(x)\n",
    "x[11:15]=b' object'\n",
    "print(x)\n",
    "#append\n",
    "x.append(65)\n",
    "print(x)\n",
    "print(x[-5:])\n",
    "print(x[0:6])\n",
    "print(x[:-1])\n"
   ]
  },
  {
   "cell_type": "markdown",
   "metadata": {},
   "source": []
  }
 ],
 "metadata": {
  "kernelspec": {
   "display_name": "Python 3",
   "language": "python",
   "name": "python3"
  },
  "language_info": {
   "codemirror_mode": {
    "name": "ipython",
    "version": 3
   },
   "file_extension": ".py",
   "mimetype": "text/x-python",
   "name": "python",
   "nbconvert_exporter": "python",
   "pygments_lexer": "ipython3",
   "version": "3.7.6"
  }
 },
 "nbformat": 4,
 "nbformat_minor": 4
}
