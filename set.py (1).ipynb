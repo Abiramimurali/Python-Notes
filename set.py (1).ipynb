{
 "cells": [
  {
   "cell_type": "code",
   "execution_count": 1,
   "metadata": {},
   "outputs": [],
   "source": [
    "#08/09/2020\n",
    "\n",
    "\n",
    "#set-> same as mathematic definition.\n",
    "#a set is a collection of items not in any  particular order\n",
    "#element in the set cannot be duplicated\n",
    "#immutablebut the set as whole is mutable\n",
    "#no index attached to any element\n",
    "#do not support any indexing or slicing\n",
    "#property--->>>>unordered & unindexing\n"
   ]
  },
  {
   "cell_type": "code",
   "execution_count": 2,
   "metadata": {},
   "outputs": [],
   "source": [
    "# set operation\n",
    "# mathematic operation -> union, intersection, difference & complement etc.\n",
    "#{}\n",
    "# create a set, access it's element & carry ut some ------incomplete\n",
    "# slicing is not possible"
   ]
  },
  {
   "cell_type": "code",
   "execution_count": 7,
   "metadata": {
    "scrolled": false
   },
   "outputs": [
    {
     "name": "stdout",
     "output_type": "stream",
     "text": [
      "{'fri', 'tue', 'thur', 'mon', 'sat', 'wed', 'sun'}\n",
      "{'jan', 'mar', 'feb'}\n",
      "{1, 2, 3, 4, 5, 6}\n"
     ]
    }
   ],
   "source": [
    "# creating a set\n",
    "#by using set([]) function or {}\n",
    "#unodered.\n",
    "day=set([\"mon\",\"tue\",\"wed\",\"thur\",\"fri\",\"sat\",\"sun\"])\n",
    "print(day)\n",
    "month={\"jan\",\"feb\",\"mar\"}\n",
    "print(month)\n",
    "date={1,2,3,4,5,6}\n",
    "print(date)"
   ]
  },
  {
   "cell_type": "code",
   "execution_count": 9,
   "metadata": {
    "scrolled": true
   },
   "outputs": [
    {
     "name": "stdout",
     "output_type": "stream",
     "text": [
      "fri\n",
      "tue\n",
      "thur\n",
      "mon\n",
      "sat\n",
      "wed\n",
      "sun\n"
     ]
    }
   ],
   "source": [
    "#accessing value in set\n",
    "for d in day:\n",
    "    print(d)\n"
   ]
  },
  {
   "cell_type": "code",
   "execution_count": 11,
   "metadata": {},
   "outputs": [
    {
     "name": "stdout",
     "output_type": "stream",
     "text": [
      "False\n"
     ]
    }
   ],
   "source": [
    "#check \"banana\" is in the set or not\n",
    "fruit={\"grapes\",\"banana\",\"apple\"}\n",
    "print(\"gova\" in fruit)\n",
    "#cann't change the item\n"
   ]
  },
  {
   "cell_type": "code",
   "execution_count": 14,
   "metadata": {},
   "outputs": [
    {
     "name": "stdout",
     "output_type": "stream",
     "text": [
      "{'jan', 'mar', 'feb', 'apr'}\n",
      "{'grapes', 'banana', 'apple', 'mango'}\n"
     ]
    }
   ],
   "source": [
    "#adding an element\n",
    "month={\"jan\",\"feb\",\"mar\"}\n",
    "month.add(\"apr\")\n",
    "print(month)\n",
    "fruit={\"grapes\",\"banana\",\"apple\"}\n",
    "fruit.add(\"mango\")\n",
    "print(fruit)"
   ]
  },
  {
   "cell_type": "code",
   "execution_count": 17,
   "metadata": {},
   "outputs": [
    {
     "name": "stdout",
     "output_type": "stream",
     "text": [
      "{'banana', 'grapes', 'apple', 'cherry', 'mango', 'pineapple'}\n"
     ]
    }
   ],
   "source": [
    "# add multiple items to a set, using the update() method\n",
    "fruit={\"grapes\",\"banana\",\"apple\"}\n",
    "fruit.update([\"mango\",\"cherry\",\"pineapple\"])\n",
    "print(fruit)"
   ]
  },
  {
   "cell_type": "code",
   "execution_count": 24,
   "metadata": {},
   "outputs": [
    {
     "name": "stdout",
     "output_type": "stream",
     "text": [
      "{'grapes', 'apple'}\n"
     ]
    }
   ],
   "source": [
    "#remove()method\n",
    "fruit={\"grapes\",\"banana\",\"apple\"}\n",
    "fruit.remove(\"banana\")\n",
    "print(fruit)"
   ]
  },
  {
   "cell_type": "code",
   "execution_count": 2,
   "metadata": {},
   "outputs": [
    {
     "name": "stdout",
     "output_type": "stream",
     "text": [
      "apple\n",
      "{'banana', 'cherry'}\n"
     ]
    }
   ],
   "source": [
    "#pop->remove last item\n",
    "#drawback-> set is unordered so we can't find which one is last element. so pop will remove at last of the set\n",
    "fruit={\"apple\",\"banana\",\"cherry\"}\n",
    "print(fruit.pop())\n",
    "print(fruit)"
   ]
  },
  {
   "cell_type": "code",
   "execution_count": 4,
   "metadata": {
    "scrolled": false
   },
   "outputs": [
    {
     "name": "stdout",
     "output_type": "stream",
     "text": [
      "set()\n"
     ]
    },
    {
     "ename": "NameError",
     "evalue": "name 'fruit' is not defined",
     "output_type": "error",
     "traceback": [
      "\u001b[1;31m---------------------------------------------------------------------------\u001b[0m",
      "\u001b[1;31mNameError\u001b[0m                                 Traceback (most recent call last)",
      "\u001b[1;32m<ipython-input-4-02ea3063664c>\u001b[0m in \u001b[0;36m<module>\u001b[1;34m\u001b[0m\n\u001b[0;32m      6\u001b[0m \u001b[0mfruit\u001b[0m\u001b[1;33m=\u001b[0m\u001b[1;33m{\u001b[0m\u001b[1;34m\"apple\"\u001b[0m\u001b[1;33m,\u001b[0m\u001b[1;34m\"banana\"\u001b[0m\u001b[1;33m,\u001b[0m\u001b[1;34m\"cherry\"\u001b[0m\u001b[1;33m}\u001b[0m\u001b[1;33m\u001b[0m\u001b[1;33m\u001b[0m\u001b[0m\n\u001b[0;32m      7\u001b[0m \u001b[1;32mdel\u001b[0m \u001b[0mfruit\u001b[0m\u001b[1;33m\u001b[0m\u001b[1;33m\u001b[0m\u001b[0m\n\u001b[1;32m----> 8\u001b[1;33m \u001b[0mprint\u001b[0m\u001b[1;33m(\u001b[0m\u001b[0mfruit\u001b[0m\u001b[1;33m)\u001b[0m\u001b[1;33m\u001b[0m\u001b[1;33m\u001b[0m\u001b[0m\n\u001b[0m\u001b[0;32m      9\u001b[0m \u001b[1;33m\u001b[0m\u001b[0m\n\u001b[0;32m     10\u001b[0m \u001b[1;33m\u001b[0m\u001b[0m\n",
      "\u001b[1;31mNameError\u001b[0m: name 'fruit' is not defined"
     ]
    }
   ],
   "source": [
    "#09/09/2020\n",
    "\n",
    "fruit={\"apple\",\"banana\",\"cherry\"}\n",
    "fruit.clear()#element only will be clear\n",
    "print(fruit)\n",
    "fruit={\"apple\",\"banana\",\"cherry\"}\n",
    "del fruit #totally delete \n",
    "print(fruit)\n",
    "\n",
    "\n",
    "\n",
    "\n",
    "\n",
    "\n",
    "\n",
    "\n"
   ]
  },
  {
   "cell_type": "code",
   "execution_count": 9,
   "metadata": {},
   "outputs": [
    {
     "name": "stdout",
     "output_type": "stream",
     "text": [
      "{1, 2, 3, 'b', 'a', 'c'}\n",
      "{'tue', 'wed', 'sun', 'thu', 'sat', 'mon', 'fri'}\n",
      "{'wed'}\n",
      "{'mon', 'tue'}\n",
      "{'sun', 'thu', 'fri', 'sat'}\n"
     ]
    }
   ],
   "source": [
    "# join two set\n",
    "#1.union ()method -> set containing all the distinct elements from both the sets\n",
    "#2.update method-> inserts all the items from one set into another\n",
    "\n",
    "set1={\"a\",\"b\",\"c\"}\n",
    "set2={1,2,3}\n",
    "set3=set1.union(set2)\n",
    "print(set3)\n",
    "dayA=set([\"mon\",\"tue\",\"wed\"])\n",
    "dayB={\"wed\",\"thu\",\"fri\",\"sat\",\"sun\"}\n",
    "alldays=dayA|dayB  # any common element is there then it will consider 1 time only\n",
    "print(alldays)\n",
    "alldays=dayA & dayB #common element\n",
    "print(alldays)\n",
    "#different -> ingnore 2nd set common element and 1st set common elemnt remove\n",
    "alldays=dayA-dayB\n",
    "print(alldays)\n",
    "alldays=dayB-dayA\n",
    "print(alldays)"
   ]
  },
  {
   "cell_type": "code",
   "execution_count": 10,
   "metadata": {},
   "outputs": [
    {
     "name": "stdout",
     "output_type": "stream",
     "text": [
      "True True\n"
     ]
    }
   ],
   "source": [
    "#compare set-> set is a subset or superset of another set.\n",
    "dayA=set([\"mon\",\"tue\",\"wed\"])\n",
    "dayB={\"mon\",\"tue\",\"wed\",\"thu\",\"fri\",\"sat\",\"sun\"}\n",
    "subsetR=dayA<=dayB\n",
    "supersetR=dayB>=dayA\n",
    "print(subsetR,supersetR)"
   ]
  },
  {
   "cell_type": "code",
   "execution_count": 19,
   "metadata": {},
   "outputs": [
    {
     "name": "stdout",
     "output_type": "stream",
     "text": [
      "{1, 2, 3, 4, 5, 6, 7, 8, 9, 10}\n",
      "{1, 2, 3, 4, 5, 6, 7, 8, 9, 10}\n",
      "{4, 5}\n",
      "{1, 2, 3}\n",
      "False\n",
      "False\n"
     ]
    }
   ],
   "source": [
    "a={1,2,3,4,5}\n",
    "b={4,5,6,7,8,9,10}\n",
    "print(a.union(b))#union\n",
    "print(a|b)#union\n",
    "print(a&b)#interset\n",
    "print(a-b)#difference\n",
    "print(b<=a)#compare\n",
    "print(b>=a)#compare\n",
    "\n",
    "\n",
    "\n",
    "\n",
    "\n"
   ]
  },
  {
   "cell_type": "code",
   "execution_count": null,
   "metadata": {},
   "outputs": [],
   "source": []
  }
 ],
 "metadata": {
  "kernelspec": {
   "display_name": "Python 3",
   "language": "python",
   "name": "python3"
  },
  "language_info": {
   "codemirror_mode": {
    "name": "ipython",
    "version": 3
   },
   "file_extension": ".py",
   "mimetype": "text/x-python",
   "name": "python",
   "nbconvert_exporter": "python",
   "pygments_lexer": "ipython3",
   "version": "3.7.6"
  }
 },
 "nbformat": 4,
 "nbformat_minor": 4
}
