{
 "cells": [
  {
   "cell_type": "code",
   "execution_count": 7,
   "metadata": {},
   "outputs": [
    {
     "name": "stdout",
     "output_type": "stream",
     "text": [
      "<class 'list'> [10, 20, 30, 40, 50]\n",
      "<class 'list'> ['sara', 'david', 'warner', 'sandy']\n",
      "<class 'list'> ['sara', 10, 'physics']\n"
     ]
    }
   ],
   "source": [
    "n=[10,20,30,40,50]\n",
    "print(type(n),n)\n",
    "names=['sara','david','warner','sandy']\n",
    "print(type(names),names)\n",
    "studentInfo=['sara',10,'physics']\n",
    "print(type(studentInfo),studentInfo)\n"
   ]
  },
  {
   "cell_type": "code",
   "execution_count": 11,
   "metadata": {
    "scrolled": true
   },
   "outputs": [
    {
     "name": "stdout",
     "output_type": "stream",
     "text": [
      "[]\n",
      "[10, 20, 30, 40, 50, 'sara', 'david', 'warner', 'sandy', 'sara', 10, 'physics']\n",
      "[10, 20, 30, 40, 50, 10, 20, 30, 40, 50, 10, 20, 30, 40, 50]\n"
     ]
    }
   ],
   "source": [
    "#empty list\n",
    "a=[]\n",
    "print(a)\n",
    "#list concatenate\n",
    "print(n+names+studentInfo)\n",
    "print(n*3)"
   ]
  },
  {
   "cell_type": "code",
   "execution_count": 22,
   "metadata": {
    "scrolled": false
   },
   "outputs": [
    {
     "name": "stdout",
     "output_type": "stream",
     "text": [
      "['red', 'blue', 'green', 'black', 'yellow']\n",
      "['red', 'blue', 'white', 'green', 'black', 'yellow']\n",
      "['red', 'blue', 'pink', 'green', 'black', 'yellow']\n",
      "['red', 'blue', 'pink', 'green', 'yellow']\n",
      "[]\n"
     ]
    }
   ],
   "source": [
    "#list indices-> same as like string\n",
    "color=['red','blue','green','black']\n",
    "#index value out of range -> error\n",
    "#--------------------------------------#\n",
    "#add something in list -> use obj.append()\n",
    "color.append('yellow')\n",
    "print(color)\n",
    "#add something in list in a particular index place -> use obj.insert(indexvalue,\"name\")\n",
    "color.insert(2,'white')\n",
    "print(color)\n",
    "#instead of something want to replace -> obj[indexvalue]='name'\n",
    "color[2]='pink'\n",
    "print(color)\n",
    "#remove something -> obj.remove('name')\n",
    "color.remove('black')\n",
    "print(color)\n",
    "#remove all items\n",
    "color.clear()\n",
    "print(color)\n"
   ]
  },
  {
   "cell_type": "code",
   "execution_count": 1,
   "metadata": {},
   "outputs": [
    {
     "name": "stdout",
     "output_type": "stream",
     "text": [
      "['red', 'blue']\n"
     ]
    }
   ],
   "source": [
    "#SLICE\n",
    "color=['red','blue','green','black']\n",
    "print(color[0:2])\n"
   ]
  },
  {
   "cell_type": "code",
   "execution_count": 5,
   "metadata": {},
   "outputs": [
    {
     "name": "stdout",
     "output_type": "stream",
     "text": [
      "['blue']\n"
     ]
    }
   ],
   "source": [
    "color=['red','blue','green','black']\n",
    "print(color[1:2])"
   ]
  },
  {
   "cell_type": "code",
   "execution_count": 7,
   "metadata": {},
   "outputs": [
    {
     "name": "stdout",
     "output_type": "stream",
     "text": [
      "['blue']\n"
     ]
    }
   ],
   "source": [
    "color=['red','blue','green','black']\n",
    "print(color[1:-2])"
   ]
  },
  {
   "cell_type": "code",
   "execution_count": 1,
   "metadata": {},
   "outputs": [
    {
     "name": "stdout",
     "output_type": "stream",
     "text": [
      "['black', 'blue', 'green', 'red']\n",
      "['red', 'green', 'blue', 'black']\n",
      "['red', 'green', 'blue', 'black']\n"
     ]
    }
   ],
   "source": [
    "#alphabet order\n",
    "color=['red','blue','green','black']\n",
    "color.sort(key=None, reverse=False)\n",
    "print(color)\n",
    "#reverse\n",
    "color.reverse()\n",
    "print(color)\n",
    "#03/09/2020\n",
    "color.copy()\n",
    "print(color)\n"
   ]
  },
  {
   "cell_type": "code",
   "execution_count": 3,
   "metadata": {
    "scrolled": true
   },
   "outputs": [
    {
     "name": "stdout",
     "output_type": "stream",
     "text": [
      "1\n"
     ]
    }
   ],
   "source": [
    "print(color.index(\"green\"))\n"
   ]
  },
  {
   "cell_type": "code",
   "execution_count": 4,
   "metadata": {},
   "outputs": [
    {
     "name": "stdout",
     "output_type": "stream",
     "text": [
      "['white', 'green', 'blue', 'black']\n"
     ]
    }
   ],
   "source": [
    "#list are Mutable\n",
    "color[0]='white'\n",
    "print(color)"
   ]
  },
  {
   "cell_type": "code",
   "execution_count": 7,
   "metadata": {},
   "outputs": [
    {
     "name": "stdout",
     "output_type": "stream",
     "text": [
      "[1, 5, 7, 3, 2, 4, 6]\n",
      "[7, 2, 6]\n"
     ]
    }
   ],
   "source": [
    "list1=[1,5,7,3,2,4,6]\n",
    "print(list1)\n",
    "sublist=list1[2:7:2] #[start,stop,step]\n",
    "print(sublist)"
   ]
  },
  {
   "cell_type": "code",
   "execution_count": 10,
   "metadata": {},
   "outputs": [
    {
     "name": "stdout",
     "output_type": "stream",
     "text": [
      "[1, 5, 7, 3, 2, 4, 6]\n",
      "7\n",
      "1\n"
     ]
    }
   ],
   "source": [
    "\n",
    "#maximum & minimum\n",
    "print(list1)\n",
    "print(max(list1))\n",
    "print(min(list1))"
   ]
  },
  {
   "cell_type": "code",
   "execution_count": 13,
   "metadata": {},
   "outputs": [
    {
     "name": "stdout",
     "output_type": "stream",
     "text": [
      "True\n",
      "False\n"
     ]
    }
   ],
   "source": [
    "#compare two list\n",
    "list1,list2=[3,5,9],[3,5,9]\n",
    "print(list1==list2)\n",
    "# element same but order change\n",
    "list1,list2=[3,5,9],[5,5,3]\n",
    "print(list1==list2)"
   ]
  },
  {
   "cell_type": "code",
   "execution_count": 18,
   "metadata": {},
   "outputs": [
    {
     "name": "stdout",
     "output_type": "stream",
     "text": [
      "2\n"
     ]
    }
   ],
   "source": [
    "list2=[['hello','world'],[0,1,2,3,4,5]]\n",
    "print(list2[1][2])\n"
   ]
  },
  {
   "cell_type": "code",
   "execution_count": 24,
   "metadata": {},
   "outputs": [
    {
     "name": "stdout",
     "output_type": "stream",
     "text": [
      "['h', 'e', 'l', 'l', 'o', 'w', 'o', 'r', 'l', 'd']\n",
      "2\n",
      "8\n",
      "4\n"
     ]
    }
   ],
   "source": [
    "list3=list('helloworld')\n",
    "print(list3)\n",
    "print(list3.index('l'))\n",
    "\n",
    "print(list3.index('l',4))\n",
    "print(list3.index('o',3,5))"
   ]
  },
  {
   "cell_type": "code",
   "execution_count": 31,
   "metadata": {},
   "outputs": [
    {
     "name": "stdout",
     "output_type": "stream",
     "text": [
      "['white', 'green', 'blue', 'black', 'abi', 'abi']\n",
      "['white', 'green', 'blue', 'black', 'abi', 'abi', 'purple']\n",
      "['white', 'green', 'blue', 'black', 'abi', 'abi']\n"
     ]
    }
   ],
   "source": [
    "print(color)\n",
    "color.append(\"purple\")\n",
    "print(color)\n",
    "color.pop()\n",
    "print(color)"
   ]
  },
  {
   "cell_type": "code",
   "execution_count": 8,
   "metadata": {},
   "outputs": [
    {
     "name": "stdout",
     "output_type": "stream",
     "text": [
      "('apple', 'banana', 'cherry')\n",
      "()\n",
      "('tuple', 'False', 2, 3.4)\n",
      "<class 'str'> <class 'tuple'>\n",
      "<class 'tuple'>\n"
     ]
    }
   ],
   "source": [
    "#04/09/2020\n",
    "#tuple-> same like a list->round bracket->()\n",
    "tuple1=(\"apple\",\"banana\",\"cherry\")\n",
    "print(tuple1)\n",
    "tuple2=()\n",
    "print(tuple2)\n",
    "tuple2=('tuple','False',2,3.4)\n",
    "print(tuple2)\n",
    "a=(\"abi\")\n",
    "b=(\"abi\",)\n",
    "print(type(a),type(b))\n",
    "c=7,\n",
    "print(type(c))\n"
   ]
  },
  {
   "cell_type": "code",
   "execution_count": 10,
   "metadata": {},
   "outputs": [
    {
     "name": "stdout",
     "output_type": "stream",
     "text": [
      "('apple', 'banana', 'gova') <class 'tuple'>\n"
     ]
    }
   ],
   "source": [
    "tuple4=tuple(('apple','banana','gova'))\n",
    "print(tuple4,type(tuple4))"
   ]
  },
  {
   "cell_type": "code",
   "execution_count": 13,
   "metadata": {},
   "outputs": [
    {
     "name": "stdout",
     "output_type": "stream",
     "text": [
      "banana\n",
      "('cherry', 'orange', 'kiwi')\n"
     ]
    }
   ],
   "source": [
    "print(tuple4[-2])\n",
    "tuple5=('apple','banana','cherry','orange','kiwi','melon','mango')\n",
    "print(tuple5[2:5])"
   ]
  },
  {
   "cell_type": "code",
   "execution_count": 23,
   "metadata": {},
   "outputs": [
    {
     "ename": "TypeError",
     "evalue": "'tuple' object is not callable",
     "output_type": "error",
     "traceback": [
      "\u001b[1;31m---------------------------------------------------------------------------\u001b[0m",
      "\u001b[1;31mTypeError\u001b[0m                                 Traceback (most recent call last)",
      "\u001b[1;32m<ipython-input-23-90f749f8d75b>\u001b[0m in \u001b[0;36m<module>\u001b[1;34m\u001b[0m\n\u001b[0;32m      2\u001b[0m \u001b[1;31m#convert tuple into a list -> change the list -> and convert the list back into tuple\u001b[0m\u001b[1;33m\u001b[0m\u001b[1;33m\u001b[0m\u001b[1;33m\u001b[0m\u001b[0m\n\u001b[0;32m      3\u001b[0m \u001b[0mx\u001b[0m\u001b[1;33m=\u001b[0m\u001b[1;33m(\u001b[0m\u001b[1;34m'apple'\u001b[0m\u001b[1;33m,\u001b[0m\u001b[1;34m'banana'\u001b[0m\u001b[1;33m,\u001b[0m\u001b[1;34m'cherry'\u001b[0m\u001b[1;33m)\u001b[0m\u001b[1;33m\u001b[0m\u001b[1;33m\u001b[0m\u001b[0m\n\u001b[1;32m----> 4\u001b[1;33m \u001b[0my\u001b[0m\u001b[1;33m=\u001b[0m\u001b[0mlist\u001b[0m\u001b[1;33m(\u001b[0m\u001b[0mx\u001b[0m\u001b[1;33m)\u001b[0m\u001b[1;33m\u001b[0m\u001b[1;33m\u001b[0m\u001b[0m\n\u001b[0m\u001b[0;32m      5\u001b[0m \u001b[0mprint\u001b[0m\u001b[1;33m(\u001b[0m\u001b[0my\u001b[0m\u001b[1;33m)\u001b[0m\u001b[1;33m\u001b[0m\u001b[1;33m\u001b[0m\u001b[0m\n",
      "\u001b[1;31mTypeError\u001b[0m: 'tuple' object is not callable"
     ]
    }
   ],
   "source": [
    "#change tuble values-> not possible change directly\n",
    "#convert tuple into a list -> change the list -> and convert the list back into tuple\n",
    "x=('apple','banana','cherry')\n",
    "y=list(x)\n",
    "print(y)\n"
   ]
  },
  {
   "cell_type": "code",
   "execution_count": null,
   "metadata": {},
   "outputs": [],
   "source": []
  }
 ],
 "metadata": {
  "kernelspec": {
   "display_name": "Python 3",
   "language": "python",
   "name": "python3"
  },
  "language_info": {
   "codemirror_mode": {
    "name": "ipython",
    "version": 3
   },
   "file_extension": ".py",
   "mimetype": "text/x-python",
   "name": "python",
   "nbconvert_exporter": "python",
   "pygments_lexer": "ipython3",
   "version": "3.7.6"
  }
 },
 "nbformat": 4,
 "nbformat_minor": 4
}
