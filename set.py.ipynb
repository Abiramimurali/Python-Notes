{
 "cells": [
  {
   "cell_type": "code",
   "execution_count": 1,
   "metadata": {},
   "outputs": [],
   "source": [
    "#set-> same as mathematic definition.\n",
    "#a set is a collection of items not in any  particular order\n",
    "#element in the set cannot be duplicated\n",
    "#immutablebut the set as whole is mutable\n",
    "#no index attached to any element\n",
    "#do not support any indexing or slicing\n",
    "#property--->>>>unordered & unindexing\n"
   ]
  },
  {
   "cell_type": "code",
   "execution_count": 2,
   "metadata": {},
   "outputs": [],
   "source": [
    "# set operation\n",
    "# mathematic operation -> union, intersection, difference & complement etc.\n",
    "#{}\n",
    "# create a set, access it's element & carry ut some ------incomplete"
   ]
  },
  {
   "cell_type": "code",
   "execution_count": 7,
   "metadata": {
    "scrolled": false
   },
   "outputs": [
    {
     "name": "stdout",
     "output_type": "stream",
     "text": [
      "{'fri', 'tue', 'thur', 'mon', 'sat', 'wed', 'sun'}\n",
      "{'jan', 'mar', 'feb'}\n",
      "{1, 2, 3, 4, 5, 6}\n"
     ]
    }
   ],
   "source": [
    "# creating a set\n",
    "#by using set([]) function or {}\n",
    "#unodered.\n",
    "day=set([\"mon\",\"tue\",\"wed\",\"thur\",\"fri\",\"sat\",\"sun\"])\n",
    "print(day)\n",
    "month={\"jan\",\"feb\",\"mar\"}\n",
    "print(month)\n",
    "date={1,2,3,4,5,6}\n",
    "print(date)"
   ]
  },
  {
   "cell_type": "code",
   "execution_count": 9,
   "metadata": {
    "scrolled": true
   },
   "outputs": [
    {
     "name": "stdout",
     "output_type": "stream",
     "text": [
      "fri\n",
      "tue\n",
      "thur\n",
      "mon\n",
      "sat\n",
      "wed\n",
      "sun\n"
     ]
    }
   ],
   "source": [
    "#accessing value in set\n",
    "for d in day:\n",
    "    print(d)\n"
   ]
  },
  {
   "cell_type": "code",
   "execution_count": 11,
   "metadata": {},
   "outputs": [
    {
     "name": "stdout",
     "output_type": "stream",
     "text": [
      "False\n"
     ]
    }
   ],
   "source": [
    "#check \"banana\" is in the set or not\n",
    "fruit={\"grapes\",\"banana\",\"apple\"}\n",
    "print(\"gova\" in fruit)\n",
    "#cann't change the item\n"
   ]
  },
  {
   "cell_type": "code",
   "execution_count": 14,
   "metadata": {},
   "outputs": [
    {
     "name": "stdout",
     "output_type": "stream",
     "text": [
      "{'jan', 'mar', 'feb', 'apr'}\n",
      "{'grapes', 'banana', 'apple', 'mango'}\n"
     ]
    }
   ],
   "source": [
    "#adding an element\n",
    "month={\"jan\",\"feb\",\"mar\"}\n",
    "month.add(\"apr\")\n",
    "print(month)\n",
    "fruit={\"grapes\",\"banana\",\"apple\"}\n",
    "fruit.add(\"mango\")\n",
    "print(fruit)"
   ]
  },
  {
   "cell_type": "code",
   "execution_count": 17,
   "metadata": {},
   "outputs": [
    {
     "name": "stdout",
     "output_type": "stream",
     "text": [
      "{'banana', 'grapes', 'apple', 'cherry', 'mango', 'pineapple'}\n"
     ]
    }
   ],
   "source": [
    "# add multiple items to a set, using the update() method\n",
    "fruit={\"grapes\",\"banana\",\"apple\"}\n",
    "fruit.update([\"mango\",\"cherry\",\"pineapple\"])\n",
    "print(fruit)"
   ]
  },
  {
   "cell_type": "code",
   "execution_count": 24,
   "metadata": {},
   "outputs": [
    {
     "name": "stdout",
     "output_type": "stream",
     "text": [
      "{'grapes', 'apple'}\n"
     ]
    }
   ],
   "source": [
    "#remove()method\n",
    "fruit={\"grapes\",\"banana\",\"apple\"}\n",
    "fruit.remove(\"banana\")\n",
    "print(fruit)"
   ]
  },
  {
   "cell_type": "code",
   "execution_count": 22,
   "metadata": {},
   "outputs": [
    {
     "name": "stdout",
     "output_type": "stream",
     "text": [
      "banana\n",
      "{'apple', 'cherry'}\n"
     ]
    }
   ],
   "source": [
    "#pop->remove last item\n",
    "fruit={\"apple\",\"banana\",\"cherry\"}\n",
    "print(fruit.pop())\n",
    "print(fruit)"
   ]
  },
  {
   "cell_type": "code",
   "execution_count": null,
   "metadata": {},
   "outputs": [],
   "source": []
  }
 ],
 "metadata": {
  "kernelspec": {
   "display_name": "Python 3",
   "language": "python",
   "name": "python3"
  },
  "language_info": {
   "codemirror_mode": {
    "name": "ipython",
    "version": 3
   },
   "file_extension": ".py",
   "mimetype": "text/x-python",
   "name": "python",
   "nbconvert_exporter": "python",
   "pygments_lexer": "ipython3",
   "version": "3.7.6"
  }
 },
 "nbformat": 4,
 "nbformat_minor": 4
}
