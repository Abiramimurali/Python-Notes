{
 "cells": [
  {
   "cell_type": "code",
   "execution_count": 1,
   "metadata": {},
   "outputs": [],
   "source": [
    "#UNIT-3\n",
    "# Regular expression\n",
    "#match or find particular string or set of strings\n",
    "#string-> regular string & raw string\n",
    "# Regular expression-> RE(REs, regexes or regex pattern) or embedded through re module\n",
    "#pattern obj methods\n",
    "#Regular expression are a oowerful string manipulation tool\n",
    "# 1) match 2) search 3) split 4)findall 5)sub\n",
    "#re.match(),research(),re.split()&re.findal\n",
    "\n"
   ]
  },
  {
   "cell_type": "code",
   "execution_count": 2,
   "metadata": {},
   "outputs": [],
   "source": [
    "# match fun\n",
    "#this fun attempts to match RE pattern to string with optional flags.\n",
    "#syn: rematch(patter,string,flags=0)\n",
    "# patterns-> (+?.*^$()[]{}\\),"
   ]
  },
  {
   "cell_type": "code",
   "execution_count": 5,
   "metadata": {},
   "outputs": [
    {
     "name": "stdout",
     "output_type": "stream",
     "text": [
      "['COMPUTER']\n"
     ]
    }
   ],
   "source": [
    "import re\n",
    "string=\"ABCD4COMPUTER 765 PYTHON 687 abi\"\n",
    "pattern='COMPUTER'#extracting specific word\n",
    "match=re.findall(pattern,string)\n",
    "print(match)"
   ]
  },
  {
   "cell_type": "code",
   "execution_count": 34,
   "metadata": {},
   "outputs": [
    {
     "name": "stdout",
     "output_type": "stream",
     "text": [
      "['4', '765', '687']\n",
      "['ABCD4COMPUTER', '765', 'PYTHON', '687', 'abi']\n",
      "['ABCD4COMPUTER', '765', 'PYTHON', '687', 'abi']\n",
      "['BCD4COMPUTER', '765', 'PYTHON', '687', 'abi']\n",
      "['BCD4COMPUTER 765 PYTHON 687 abi']\n",
      "['ABCD4COM', 'UTER', '765', 'YTHON', '687', 'abi']\n"
     ]
    }
   ],
   "source": [
    "pattern=r'[0-9]+'\n",
    "match=re.findall(pattern,string)\n",
    "print(match)\n",
    "\n",
    "pattern=r'[A-Za-z0-9]+'\n",
    "match=re.findall(pattern,string)\n",
    "print(match)\n",
    "\n",
    "pattern=r'[^ ]+'  \n",
    "match=re.findall(pattern,string)\n",
    "print(match)\n",
    "\n",
    "pattern=r'[^A ]+'  \n",
    "match=re.findall(pattern,string)\n",
    "print(match)\n",
    "\n",
    "pattern=r'[^A]+'  \n",
    "match=re.findall(pattern,string)\n",
    "print(match)\n",
    "\n",
    "pattern=r'[^P ]+'  \n",
    "match=re.findall(pattern,string)\n",
    "print(match)\n",
    "\n",
    "pattern=r'[^P]+'  \n",
    "match=re.findall(pattern,string)\n",
    "print(match)\n",
    "\n"
   ]
  },
  {
   "cell_type": "code",
   "execution_count": 38,
   "metadata": {},
   "outputs": [
    {
     "name": "stdout",
     "output_type": "stream",
     "text": [
      "['oranges', 'cherries']\n"
     ]
    }
   ],
   "source": [
    "string='''apple\n",
    "banana\n",
    "orange\n",
    "peach\n",
    "avocado\n",
    "cherries'''\n",
    "pattern=r'.*s'   # last letter\n",
    "match=re.findall(pattern,string)\n",
    "print(match)\n"
   ]
  },
  {
   "cell_type": "code",
   "execution_count": 3,
   "metadata": {},
   "outputs": [
    {
     "name": "stdout",
     "output_type": "stream",
     "text": [
      "a\tb\n",
      "a\\tb\n"
     ]
    }
   ],
   "source": [
    "#29.09.2020\n",
    "s=\"a\\tb\"\n",
    "print(s)\n",
    "s=r\"a\\tb\" #raw string\n",
    "print(s)"
   ]
  },
  {
   "cell_type": "code",
   "execution_count": 13,
   "metadata": {},
   "outputs": [
    {
     "name": "stdout",
     "output_type": "stream",
     "text": [
      "match sucess\n",
      "no match\n",
      "no match\n"
     ]
    }
   ],
   "source": [
    "pattern=r'\\d+'\n",
    "text=\"197 is the plot number\"\n",
    "match=re.match(pattern,text)\n",
    "if match:\n",
    "    print(\"match sucess\")\n",
    "else:\n",
    "    print(\"no match\")\n",
    "    \n",
    "pattern=r'\\d+'\n",
    "text=\"the plot number 197\"\n",
    "match=re.match(pattern,text)\n",
    "if match:\n",
    "    print(\"match sucess\")\n",
    "else:\n",
    "    print(\"no match\") #in the end \n",
    "    \n",
    "\n",
    "pattern=r'\\d+'\n",
    "text=\"the plot 197 number\"\n",
    "match=re.match(pattern,text)\n",
    "if match:\n",
    "    print(\"match sucess\")\n",
    "else:\n",
    "    print(\"no match\") #in the middle"
   ]
  },
  {
   "cell_type": "code",
   "execution_count": 17,
   "metadata": {},
   "outputs": [
    {
     "name": "stdout",
     "output_type": "stream",
     "text": [
      "['apple', 'orange', 'avocado']\n"
     ]
    }
   ],
   "source": [
    "string='''apple\n",
    "banana\n",
    "orange\n",
    "peach\n",
    "avocado\n",
    "cherries'''\n",
    "pattern=r'\\b[aeiou].+\\b'   \n",
    "match=re.findall(pattern,string)\n",
    "print(match)\n"
   ]
  },
  {
   "cell_type": "code",
   "execution_count": 18,
   "metadata": {},
   "outputs": [
    {
     "name": "stdout",
     "output_type": "stream",
     "text": [
      "['apple', 'anana', 'orange', 'each', 'avocado', 'erries']\n"
     ]
    }
   ],
   "source": [
    "string='''apple\n",
    "banana\n",
    "orange\n",
    "peach\n",
    "avocado\n",
    "cherries'''\n",
    "pattern=r'[aeiou].+'   \n",
    "match=re.findall(pattern,string)\n",
    "print(match)\n"
   ]
  },
  {
   "cell_type": "code",
   "execution_count": 19,
   "metadata": {},
   "outputs": [
    {
     "name": "stdout",
     "output_type": "stream",
     "text": [
      "['apple', 'anana', 'orange', 'each', 'avocado', 'erries']\n"
     ]
    }
   ],
   "source": [
    "string='''apple\n",
    "banana\n",
    "orange\n",
    "peach\n",
    "avocado\n",
    "cherries'''\n",
    "pattern=r'[aeiou].+\\b'   \n",
    "match=re.findall(pattern,string)\n",
    "print(match)\n"
   ]
  },
  {
   "cell_type": "code",
   "execution_count": 26,
   "metadata": {},
   "outputs": [
    {
     "name": "stdout",
     "output_type": "stream",
     "text": [
      "['johny@gmail.com', 'geofryna09s@yahoomail.com']\n"
     ]
    }
   ],
   "source": [
    "email='''johny@gmail.com\n",
    "3dsfsdf.56\n",
    "geofryna09s@yahoomail.com'''\n",
    "pattern=r'[a-z]+[0-9]*[a-z]*@[a-z]+\\.com'\n",
    "match=re.findall(pattern,email)\n",
    "print(match)\n"
   ]
  },
  {
   "cell_type": "code",
   "execution_count": 9,
   "metadata": {
    "scrolled": true
   },
   "outputs": [
    {
     "name": "stdout",
     "output_type": "stream",
     "text": [
      "['g', 'h', 'f', 'f', 'e', 'i', 'q', 'l', 'j', 'w', 'k', 'a', 'h', 'g', 'f', 'o', 'i', 'e', 'q', 'k']\n",
      "['Sg', 'hf', 'fe', 'iq', 'lj', 'wk', 'ah', 'gf', 'oi', 'eq']\n",
      "['S', 'g', 'h', 'f', 'f', 'e', 'i', 'q', 'l', 'j', 'w', 'k', 'a', 'h', 'g', 'f', 'o', 'i', 'e', 'q', 'k']\n",
      "[]\n"
     ]
    }
   ],
   "source": [
    "#30/09/2020\n",
    "import re\n",
    "a=\"Sghffeiqljwkahgfoieqk\"\n",
    "pattern=r'[a-z]'\n",
    "match=re.findall(pattern,a)\n",
    "print(match)\n",
    "\n",
    "pattern=r'[a-zA-Z]\\w'\n",
    "match=re.findall(pattern,a)\n",
    "print(match)\n",
    "\n",
    "pattern=r'\\S'\n",
    "match=re.findall(pattern,a)\n",
    "print(match)\n",
    "\n",
    "pattern=r'\\s'\n",
    "match=re.findall(pattern,a)\n",
    "print(match)\n"
   ]
  },
  {
   "cell_type": "code",
   "execution_count": 41,
   "metadata": {},
   "outputs": [
    {
     "name": "stdout",
     "output_type": "stream",
     "text": [
      "<re.Match object; span=(0, 3), match='Sam'>\n",
      "<re.Match object; span=(4, 7), match='Car'>\n",
      "<re.Match object; span=(8, 13), match='Alexa'>\n",
      "<re.Match object; span=(14, 18), match='John'>\n",
      "-----end----\n",
      "<re.Match object; span=(19, 21), match='90'>\n",
      "-----end----\n",
      "<re.Match object; span=(0, 1), match='S'>\n",
      "<re.Match object; span=(4, 5), match='C'>\n",
      "<re.Match object; span=(8, 9), match='A'>\n",
      "<re.Match object; span=(14, 15), match='J'>\n",
      "-----end----\n",
      "<re.Match object; span=(1, 3), match='am'>\n",
      "<re.Match object; span=(5, 7), match='ar'>\n",
      "<re.Match object; span=(9, 13), match='lexa'>\n",
      "<re.Match object; span=(15, 18), match='ohn'>\n",
      "-----end----\n",
      "A\n",
      "\n",
      "\n",
      "A\n",
      "\n",
      "\n",
      "A\n",
      "\n",
      "\n",
      "A\n",
      "\n",
      "\n",
      "9\n",
      "0\n"
     ]
    }
   ],
   "source": [
    "string='''Sam\n",
    "Car\n",
    "Alexa\n",
    "John\n",
    "90'''\n",
    "pattern=r'\\b[A-Z][a-z]+\\b'\n",
    "match=re.finditer(pattern,string)\n",
    "for i in match:\n",
    "    print(i)\n",
    "print(\"-----end----\")   \n",
    "\n",
    "string='''Sam\n",
    "Car\n",
    "Alexa\n",
    "John\n",
    "90'''\n",
    "pattern=r'\\b[0-9]+\\b'\n",
    "match=re.finditer(pattern,string)\n",
    "for i in match:\n",
    "    print(i)\n",
    "print(\"-----end----\")   \n",
    "\n",
    "string='''Sam\n",
    "Car\n",
    "Alexa\n",
    "John\n",
    "90'''\n",
    "pattern=r'[A-Z]+'\n",
    "match=re.finditer(pattern,string)\n",
    "for i in match:\n",
    "    print(i)\n",
    "print(\"-----end----\")   \n",
    "\n",
    "string='''Sam\n",
    "Car\n",
    "Alexa\n",
    "John\n",
    "90'''\n",
    "pattern=r'[a-z]+'\n",
    "match=re.finditer(pattern,string)\n",
    "for i in match:\n",
    "    print(i)\n",
    "    \n",
    "print(\"-----end----\")   \n",
    "\n",
    "string='''Sam\n",
    "Car\n",
    "Alexa\n",
    "John\n",
    "90'''\n",
    "pattern=r'\\b[A-Z][a-z]+\\b'\n",
    "match=re.sub(pattern,\"A\",string)\n",
    "for i in match:\n",
    "    print(i)\n",
    "\n"
   ]
  },
  {
   "cell_type": "code",
   "execution_count": 1,
   "metadata": {},
   "outputs": [
    {
     "ename": "TypeError",
     "evalue": "search() missing 1 required positional argument: 'string'",
     "output_type": "error",
     "traceback": [
      "\u001b[1;31m---------------------------------------------------------------------------\u001b[0m",
      "\u001b[1;31mTypeError\u001b[0m                                 Traceback (most recent call last)",
      "\u001b[1;32m<ipython-input-1-be2e5ed3b1e0>\u001b[0m in \u001b[0;36m<module>\u001b[1;34m\u001b[0m\n\u001b[0;32m      1\u001b[0m \u001b[1;32mimport\u001b[0m \u001b[0mre\u001b[0m\u001b[1;33m\u001b[0m\u001b[1;33m\u001b[0m\u001b[0m\n\u001b[0;32m      2\u001b[0m \u001b[0ms\u001b[0m\u001b[1;33m=\u001b[0m\u001b[1;34m\"Mary had a lamb\"\u001b[0m\u001b[1;33m\u001b[0m\u001b[1;33m\u001b[0m\u001b[0m\n\u001b[1;32m----> 3\u001b[1;33m \u001b[0ma\u001b[0m\u001b[1;33m=\u001b[0m\u001b[0mre\u001b[0m\u001b[1;33m.\u001b[0m\u001b[0msearch\u001b[0m\u001b[1;33m(\u001b[0m\u001b[1;34m\"mary,s\"\u001b[0m\u001b[1;33m)\u001b[0m\u001b[1;33m\u001b[0m\u001b[1;33m\u001b[0m\u001b[0m\n\u001b[0m",
      "\u001b[1;31mTypeError\u001b[0m: search() missing 1 required positional argument: 'string'"
     ]
    }
   ],
   "source": [
    "import re\n",
    "s=\"Mary had a lamb\"\n",
    "a=re.search(\"mary,s\")"
   ]
  },
  {
   "cell_type": "code",
   "execution_count": 2,
   "metadata": {},
   "outputs": [
    {
     "name": "stdout",
     "output_type": "stream",
     "text": [
      "None\n"
     ]
    }
   ],
   "source": [
    "import re\n",
    "print(re.match(\"doubt\",\"undoubt\"))"
   ]
  },
  {
   "cell_type": "code",
   "execution_count": null,
   "metadata": {},
   "outputs": [],
   "source": []
  }
 ],
 "metadata": {
  "kernelspec": {
   "display_name": "Python 3",
   "language": "python",
   "name": "python3"
  },
  "language_info": {
   "codemirror_mode": {
    "name": "ipython",
    "version": 3
   },
   "file_extension": ".py",
   "mimetype": "text/x-python",
   "name": "python",
   "nbconvert_exporter": "python",
   "pygments_lexer": "ipython3",
   "version": "3.7.6"
  }
 },
 "nbformat": 4,
 "nbformat_minor": 4
}
